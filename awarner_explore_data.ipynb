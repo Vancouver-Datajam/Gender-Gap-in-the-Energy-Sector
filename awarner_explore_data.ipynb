{
 "cells": [
  {
   "cell_type": "code",
   "execution_count": 47,
   "id": "6e22c276",
   "metadata": {},
   "outputs": [
    {
     "data": {
      "text/html": [
       "<div>\n",
       "<style scoped>\n",
       "    .dataframe tbody tr th:only-of-type {\n",
       "        vertical-align: middle;\n",
       "    }\n",
       "\n",
       "    .dataframe tbody tr th {\n",
       "        vertical-align: top;\n",
       "    }\n",
       "\n",
       "    .dataframe thead th {\n",
       "        text-align: right;\n",
       "    }\n",
       "</style>\n",
       "<table border=\"1\" class=\"dataframe\">\n",
       "  <thead>\n",
       "    <tr style=\"text-align: right;\">\n",
       "      <th></th>\n",
       "      <th>REF_DATE</th>\n",
       "      <th>GEO</th>\n",
       "      <th>Gender</th>\n",
       "      <th>Country of control</th>\n",
       "      <th>Industry</th>\n",
       "      <th>Size of enterprise</th>\n",
       "      <th>Executive</th>\n",
       "      <th>VALUE</th>\n",
       "    </tr>\n",
       "  </thead>\n",
       "  <tbody>\n",
       "    <tr>\n",
       "      <th>0</th>\n",
       "      <td>2016</td>\n",
       "      <td>Newfoundland and Labrador</td>\n",
       "      <td>Women</td>\n",
       "      <td>Canada</td>\n",
       "      <td>Finance</td>\n",
       "      <td>First quartile</td>\n",
       "      <td>Directors</td>\n",
       "      <td>3.0</td>\n",
       "    </tr>\n",
       "    <tr>\n",
       "      <th>1</th>\n",
       "      <td>2016</td>\n",
       "      <td>Newfoundland and Labrador</td>\n",
       "      <td>Women</td>\n",
       "      <td>Canada</td>\n",
       "      <td>Finance</td>\n",
       "      <td>First quartile</td>\n",
       "      <td>Top officers</td>\n",
       "      <td>0.0</td>\n",
       "    </tr>\n",
       "    <tr>\n",
       "      <th>2</th>\n",
       "      <td>2016</td>\n",
       "      <td>Newfoundland and Labrador</td>\n",
       "      <td>Women</td>\n",
       "      <td>Canada</td>\n",
       "      <td>Finance</td>\n",
       "      <td>First quartile</td>\n",
       "      <td>Other officers</td>\n",
       "      <td>0.0</td>\n",
       "    </tr>\n",
       "    <tr>\n",
       "      <th>3</th>\n",
       "      <td>2016</td>\n",
       "      <td>Newfoundland and Labrador</td>\n",
       "      <td>Women</td>\n",
       "      <td>Canada</td>\n",
       "      <td>Finance</td>\n",
       "      <td>Second quartile</td>\n",
       "      <td>Directors</td>\n",
       "      <td>2.0</td>\n",
       "    </tr>\n",
       "    <tr>\n",
       "      <th>4</th>\n",
       "      <td>2016</td>\n",
       "      <td>Newfoundland and Labrador</td>\n",
       "      <td>Women</td>\n",
       "      <td>Canada</td>\n",
       "      <td>Finance</td>\n",
       "      <td>Second quartile</td>\n",
       "      <td>Top officers</td>\n",
       "      <td>0.0</td>\n",
       "    </tr>\n",
       "  </tbody>\n",
       "</table>\n",
       "</div>"
      ],
      "text/plain": [
       "   REF_DATE                        GEO Gender Country of control Industry  \\\n",
       "0      2016  Newfoundland and Labrador  Women             Canada  Finance   \n",
       "1      2016  Newfoundland and Labrador  Women             Canada  Finance   \n",
       "2      2016  Newfoundland and Labrador  Women             Canada  Finance   \n",
       "3      2016  Newfoundland and Labrador  Women             Canada  Finance   \n",
       "4      2016  Newfoundland and Labrador  Women             Canada  Finance   \n",
       "\n",
       "  Size of enterprise       Executive  VALUE  \n",
       "0     First quartile       Directors    3.0  \n",
       "1     First quartile    Top officers    0.0  \n",
       "2     First quartile  Other officers    0.0  \n",
       "3    Second quartile       Directors    2.0  \n",
       "4    Second quartile    Top officers    0.0  "
      ]
     },
     "execution_count": 47,
     "metadata": {},
     "output_type": "execute_result"
    }
   ],
   "source": [
    "import numpy as np\n",
    "import pandas as pd\n",
    "import matplotlib.pyplot as plt\n",
    "\n",
    "df = pd.read_csv('clean_data.csv')\n",
    "df.head()"
   ]
  },
  {
   "cell_type": "code",
   "execution_count": 62,
   "id": "27e4202f",
   "metadata": {},
   "outputs": [
    {
     "name": "stdout",
     "output_type": "stream",
     "text": [
      "0.30081906180193596\n"
     ]
    }
   ],
   "source": [
    "df_T = df[df.Executive == 'Other officers']\n",
    "df_T = df_T[df_T.Industry == 'Energy']\n",
    "df_T = df_T[df_T[\"Size of enterprise\"] == 'Fourth quartile']\n",
    "Total = df_T.VALUE.sum()\n",
    "df_W = df_T[df_T.Gender == 'Women']\n",
    "women = df_W.VALUE.sum()\n",
    "\n",
    "print(women/Total)"
   ]
  },
  {
   "cell_type": "code",
   "execution_count": null,
   "id": "60519889",
   "metadata": {},
   "outputs": [],
   "source": []
  }
 ],
 "metadata": {
  "kernelspec": {
   "display_name": "Python 3 (ipykernel)",
   "language": "python",
   "name": "python3"
  },
  "language_info": {
   "codemirror_mode": {
    "name": "ipython",
    "version": 3
   },
   "file_extension": ".py",
   "mimetype": "text/x-python",
   "name": "python",
   "nbconvert_exporter": "python",
   "pygments_lexer": "ipython3",
   "version": "3.8.15"
  }
 },
 "nbformat": 4,
 "nbformat_minor": 5
}
